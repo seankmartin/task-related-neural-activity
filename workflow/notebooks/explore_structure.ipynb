{
 "cells": [
  {
   "cell_type": "code",
   "execution_count": null,
   "metadata": {},
   "outputs": [],
   "source": [
    "%load_ext autoreload\n",
    "%autoreload 2"
   ]
  },
  {
   "cell_type": "code",
   "execution_count": null,
   "metadata": {},
   "outputs": [],
   "source": [
    "from trna.common import load_config\n",
    "from trna.allen import load_allen\n",
    "from simuran.bridges.allen_vbn_bridge import AllenVBNBridge"
   ]
  },
  {
   "cell_type": "code",
   "execution_count": null,
   "metadata": {},
   "outputs": [],
   "source": [
    "config_path = r\"E:\\Repos\\task-related-neural-activity\\config\\config.yaml\"\n",
    "config = load_config(config_path=config_path)"
   ]
  },
  {
   "cell_type": "code",
   "execution_count": null,
   "metadata": {},
   "outputs": [],
   "source": [
    "rc, loader = load_allen(\n",
    "    config[\"allen_data_dir\"], config[\"allen_manifest\"], [\"CA1\", \"SUB\"]\n",
    ")\n",
    "recording = rc.load(0)"
   ]
  },
  {
   "cell_type": "code",
   "execution_count": null,
   "metadata": {},
   "outputs": [],
   "source": [
    "bridge = AllenVBNBridge()\n",
    "trial_info = bridge.trial_info(recording)"
   ]
  },
  {
   "cell_type": "code",
   "execution_count": null,
   "metadata": {},
   "outputs": [],
   "source": [
    "trial_info"
   ]
  },
  {
   "cell_type": "code",
   "execution_count": null,
   "metadata": {},
   "outputs": [],
   "source": [
    "import numpy as np\n",
    "diffs = []\n",
    "for t in trial_info[\"trial_times\"]:\n",
    "    diff = t[1] - t[0]\n",
    "    diffs.append(diff)\n",
    "print(np.mean(diffs))\n",
    "print(np.std(diffs))"
   ]
  },
  {
   "cell_type": "code",
   "execution_count": null,
   "metadata": {},
   "outputs": [],
   "source": [
    "session = recording.data"
   ]
  },
  {
   "cell_type": "code",
   "execution_count": null,
   "metadata": {},
   "outputs": [],
   "source": [
    "lick_times = session.licks[\"timestamps\"]"
   ]
  },
  {
   "cell_type": "code",
   "execution_count": null,
   "metadata": {},
   "outputs": [],
   "source": [
    "delays = []\n",
    "for t, correct in zip(trial_info[\"trial_times\"], trial_info[\"trial_correct\"]):\n",
    "    if not correct:\n",
    "        continue\n",
    "    for l in lick_times:\n",
    "        if l > t[0]:\n",
    "            first_lick_after_start = l\n",
    "            break\n",
    "    lick_delay = first_lick_after_start - t[0]\n",
    "    delays.append(lick_delay)\n",
    "\n",
    "print(np.mean(delays))\n",
    "print(np.std(delays))\n",
    "print(np.max(delays))\n"
   ]
  }
 ],
 "metadata": {
  "kernelspec": {
   "display_name": "allen_ibl",
   "language": "python",
   "name": "python3"
  },
  "language_info": {
   "codemirror_mode": {
    "name": "ipython",
    "version": 3
   },
   "file_extension": ".py",
   "mimetype": "text/x-python",
   "name": "python",
   "nbconvert_exporter": "python",
   "pygments_lexer": "ipython3",
   "version": "3.8.10"
  },
  "orig_nbformat": 4
 },
 "nbformat": 4,
 "nbformat_minor": 2
}
