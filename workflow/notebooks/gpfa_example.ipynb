{
 "cells": [
  {
   "cell_type": "code",
   "execution_count": null,
   "metadata": {},
   "outputs": [],
   "source": [
    "# !pip install -q git+https://github.com/seankmartin/simuran.git@main\n",
    "# !pip install -q allensdk==2.14.1\n",
    "# !pip install -q one-api==1.17.0\n",
    "# !pip install -q ibllib==2.19.0"
   ]
  },
  {
   "cell_type": "code",
   "execution_count": null,
   "metadata": {},
   "outputs": [],
   "source": [
    "%load_ext autoreload\n",
    "%autoreload 2"
   ]
  },
  {
   "cell_type": "code",
   "execution_count": null,
   "metadata": {},
   "outputs": [],
   "source": [
    "from trna.common import load_config, regions_to_string\n",
    "from trna.allen import load_allen\n",
    "from trna.gpfa import analyse_single_recording\n",
    "from pathlib import Path\n",
    "from simuran.plot.figure import SimuranFigure"
   ]
  },
  {
   "cell_type": "code",
   "execution_count": null,
   "metadata": {},
   "outputs": [],
   "source": [
    "config_path = r\"E:\\Repos\\task-related-neural-activity\\config\\config.yaml\"\n",
    "config = load_config(config_path=config_path)"
   ]
  },
  {
   "cell_type": "code",
   "execution_count": null,
   "metadata": {},
   "outputs": [],
   "source": [
    "rc, loader = load_allen(\n",
    "    config[\"allen_data_dir\"], config[\"allen_manifest\"], [\"CA1\", \"SUB\", \"TH\"]\n",
    ")\n",
    "recording = rc.load(0)"
   ]
  },
  {
   "cell_type": "code",
   "execution_count": null,
   "metadata": {},
   "outputs": [],
   "source": [
    "info = analyse_single_recording(\n",
    "    recording,\n",
    "    config[\"gpfa_params\"],\n",
    "    Path(\"test_gpfa\"),\n",
    "    config[\"allen_data_dir\"],\n",
    "    [\"CA1\", \"SUB\", \"TH\"],\n",
    "    filter_prop=config[\"allen_filter_properties\"],\n",
    ")"
   ]
  },
  {
   "cell_type": "code",
   "execution_count": null,
   "metadata": {},
   "outputs": [],
   "source": [
    "from trna.plot import simple_trajectory_plot, plot_gpfa_distance, plot_all_trajectories, plot_trajectories_split\n",
    "\n",
    "fig = simple_trajectory_plot(info[\"correct\"], info[\"incorrect\"])\n",
    "fig = SimuranFigure(fig, Path(\"test_gpfa\") /\"gpfa\")\n",
    "fig.save()\n",
    "\n",
    "fig = plot_all_trajectories(info[\"correct\"], info[\"incorrect\"], num=2000)\n",
    "fig = SimuranFigure(fig, Path(\"test_gpfa\") /\"gpfa_all\")\n",
    "fig.save()\n",
    "\n",
    "fig = plot_trajectories_split(info[\"correct\"], info[\"incorrect\"], num=2000)\n",
    "fig = SimuranFigure(fig, Path(\"test_gpfa\") /\"gpfa_split\")\n",
    "fig.save()\n",
    "\n",
    "regions_str = regions_to_string([\"CA1\", \"SUB\", \"TH\"])\n",
    "plot_gpfa_distance([info], Path(\"test_gpfa\"), regions_str, \"allen\") "
   ]
  }
 ],
 "metadata": {
  "kernelspec": {
   "display_name": "allen_ibl",
   "language": "python",
   "name": "python3"
  },
  "language_info": {
   "codemirror_mode": {
    "name": "ipython",
    "version": 3
   },
   "file_extension": ".py",
   "mimetype": "text/x-python",
   "name": "python",
   "nbconvert_exporter": "python",
   "pygments_lexer": "ipython3",
   "version": "3.8.10"
  },
  "orig_nbformat": 4,
  "vscode": {
   "interpreter": {
    "hash": "4bcf99b499c396c1c3bdd0a78c008fb4cdf0c6001b909ad29d8a0545921c6c77"
   }
  }
 },
 "nbformat": 4,
 "nbformat_minor": 2
}
