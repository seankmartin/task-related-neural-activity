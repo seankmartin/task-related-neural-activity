{
 "cells": [
  {
   "cell_type": "code",
   "execution_count": null,
   "metadata": {},
   "outputs": [],
   "source": [
    "%load_ext autoreload\n",
    "%autoreload 2"
   ]
  },
  {
   "cell_type": "code",
   "execution_count": null,
   "metadata": {},
   "outputs": [],
   "source": [
    "from trna.common import load_config, split_spikes_into_trials\n",
    "from trna.allen import load_allen\n",
    "from trna.cca import analyse_single_recording\n",
    "from pathlib import Path"
   ]
  },
  {
   "cell_type": "code",
   "execution_count": null,
   "metadata": {},
   "outputs": [],
   "source": [
    "config_path = r\"E:\\Repos\\task-related-neural-activity\\config\\config.yaml\"\n",
    "config = load_config(config_path=config_path)"
   ]
  },
  {
   "cell_type": "code",
   "execution_count": null,
   "metadata": {},
   "outputs": [],
   "source": [
    "rc, loader = load_allen(\n",
    "    config[\"allen_data_dir\"], config[\"allen_manifest\"], [\"CA1\", \"SUB\"]\n",
    ")\n",
    "recording = rc.load(0)"
   ]
  },
  {
   "cell_type": "code",
   "execution_count": null,
   "metadata": {},
   "outputs": [],
   "source": [
    "analyse_single_recording(recording, config[\"gpfa_window\"], Path(\"test\"), config[\"allen_data_dir\"], [\"CA1\", \"SUB\"])"
   ]
  }
 ],
 "metadata": {
  "kernelspec": {
   "display_name": "allen_ibl",
   "language": "python",
   "name": "python3"
  },
  "language_info": {
   "codemirror_mode": {
    "name": "ipython",
    "version": 3
   },
   "file_extension": ".py",
   "mimetype": "text/x-python",
   "name": "python",
   "nbconvert_exporter": "python",
   "pygments_lexer": "ipython3",
   "version": "3.8.10"
  },
  "orig_nbformat": 4
 },
 "nbformat": 4,
 "nbformat_minor": 2
}
