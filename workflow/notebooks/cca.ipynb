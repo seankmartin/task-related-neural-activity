{
 "cells": [
  {
   "cell_type": "code",
   "execution_count": null,
   "metadata": {},
   "outputs": [],
   "source": [
    "%load_ext autoreload\n",
    "%autoreload 2"
   ]
  },
  {
   "cell_type": "code",
   "execution_count": null,
   "metadata": {},
   "outputs": [],
   "source": [
    "from trna.common import load_config, regions_to_string\n",
    "from trna.allen import load_allen\n",
    "from trna.cca import analyse_single_recording\n",
    "from pathlib import Path\n",
    "from simuran.plot.figure import SimuranFigure"
   ]
  },
  {
   "cell_type": "code",
   "execution_count": null,
   "metadata": {},
   "outputs": [],
   "source": [
    "config_path = r\"E:\\Repos\\task-related-neural-activity\\config\\config.yaml\"\n",
    "config = load_config(config_path=config_path)"
   ]
  },
  {
   "cell_type": "code",
   "execution_count": null,
   "metadata": {},
   "outputs": [],
   "source": [
    "rc, loader = load_allen(\n",
    "    config[\"allen_data_dir\"], config[\"allen_manifest\"], [\"CA1\", \"SUB\"]\n",
    ")\n",
    "recording = rc.load(0)"
   ]
  },
  {
   "cell_type": "code",
   "execution_count": null,
   "metadata": {},
   "outputs": [],
   "source": [
    "info = analyse_single_recording(recording, config[\"cca_params\"], Path(\"test\"), config[\"allen_data_dir\"], [\"CA1\", \"SUB\"], 4, config[f\"allen_filter_properties\"])"
   ]
  },
  {
   "cell_type": "code",
   "execution_count": null,
   "metadata": {},
   "outputs": [],
   "source": [
    "# Investigate outputs\n",
    "print(info.keys())"
   ]
  },
  {
   "cell_type": "code",
   "execution_count": null,
   "metadata": {},
   "outputs": [],
   "source": [
    "regions_st = regions_to_string([\"CA1\", \"SUB\"])\n",
    "from trna.plot import plot_cca_example, plot_cca_correlation\n",
    "\n",
    "figs = plot_cca_example(info, [\"CA1\", \"SUB\"], 0)\n",
    "for k, f in figs.items():\n",
    "    smf = SimuranFigure(f, Path(\"test\") / f\"test_cca_example_{k}\")\n",
    "    smf.save()\n",
    "\n",
    "figs = plot_cca_correlation([info], Path(\"test\"), \"allen\", regions_st)\n",
    "for k, f in figs.items():\n",
    "    smf = SimuranFigure(f, Path(\"test\") / f\"test_cca_correlation_{k}\")\n",
    "    smf.save()"
   ]
  },
  {
   "cell_type": "code",
   "execution_count": null,
   "metadata": {},
   "outputs": [],
   "source": [
    "import numpy as np\n",
    "\n",
    "\n",
    "vals = []\n",
    "for v, v2 in zip(info[\"concat_correct_corr_info\"], info[\"unsplit_corr_info_correct\"]):\n",
    "    vals.append(np.abs(v[1] - v2[1]))\n",
    "print(np.mean(vals), np.std(vals))\n",
    "\n",
    "vals = []\n",
    "for v, v2 in zip(info[\"concat_incorrect_corr_info\"], info[\"unsplit_corr_info_incorrect\"]):\n",
    "    vals.append(np.abs(v[1] - v2[1]))\n",
    "print(np.mean(vals), np.std(vals))"
   ]
  }
 ],
 "metadata": {
  "kernelspec": {
   "display_name": "allen_ibl",
   "language": "python",
   "name": "python3"
  },
  "language_info": {
   "codemirror_mode": {
    "name": "ipython",
    "version": 3
   },
   "file_extension": ".py",
   "mimetype": "text/x-python",
   "name": "python",
   "nbconvert_exporter": "python",
   "pygments_lexer": "ipython3",
   "version": "3.8.10"
  },
  "orig_nbformat": 4
 },
 "nbformat": 4,
 "nbformat_minor": 2
}
