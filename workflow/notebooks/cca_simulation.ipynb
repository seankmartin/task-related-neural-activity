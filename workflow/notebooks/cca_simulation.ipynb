{
 "cells": [
  {
   "cell_type": "code",
   "execution_count": null,
   "metadata": {},
   "outputs": [],
   "source": [
    "import numpy as np\n",
    "from sklearn.cross_decomposition import CCA\n",
    "import matplotlib.pyplot as plt"
   ]
  },
  {
   "cell_type": "code",
   "execution_count": null,
   "metadata": {},
   "outputs": [],
   "source": [
    "num_bins = 10\n",
    "bin_length = 0.1\n",
    "num1 = 50\n",
    "num2 = 30"
   ]
  },
  {
   "cell_type": "code",
   "execution_count": null,
   "metadata": {},
   "outputs": [],
   "source": [
    "class Neuron:\n",
    "    def __init__(self, gen):\n",
    "        self.firing_rate = max(0.5, gen.lognormal(0.2, 2.5))\n",
    "    \n",
    "    def sample_bins(self, num_bins, bin_length, gen):\n",
    "        return gen.poisson(self.firing_rate * bin_length, size=num_bins)\n"
   ]
  },
  {
   "cell_type": "code",
   "execution_count": null,
   "metadata": {},
   "outputs": [],
   "source": [
    "def generate_neurons(num_neurons, gen):\n",
    "    return [Neuron(gen) for _ in range(num_neurons)]\n",
    "\n",
    "def generate_binned_trial_rates(neurons, num_bins, bin_length, gen):\n",
    "    return np.array([neuron.sample_bins(num_bins, bin_length, gen) for neuron in neurons])"
   ]
  },
  {
   "cell_type": "code",
   "execution_count": null,
   "metadata": {},
   "outputs": [],
   "source": [
    "gen = np.random.default_rng(0)\n",
    "\n",
    "neurons_r1 = generate_neurons(num1, gen)\n",
    "neurons_r2 = generate_neurons(num2, gen)\n",
    "\n",
    "binned_trial_rates_r1 = generate_binned_trial_rates(neurons_r1, num_bins, bin_length, gen)\n",
    "binned_trial_rates_r2 = generate_binned_trial_rates(neurons_r2, num_bins, bin_length, gen)"
   ]
  },
  {
   "cell_type": "code",
   "execution_count": null,
   "metadata": {},
   "outputs": [],
   "source": [
    "binned_trial_rates_r1"
   ]
  },
  {
   "cell_type": "code",
   "execution_count": null,
   "metadata": {},
   "outputs": [],
   "source": [
    "def fit_cca(binned_trial_rates_r1, binned_trial_rates_r2, cca=None, fit=True):\n",
    "    if cca is None:\n",
    "        cca = CCA(n_components=1, scale=False)\n",
    "    if fit:\n",
    "        cca.fit(binned_trial_rates_r1, binned_trial_rates_r2)\n",
    "    X, Y = cca.transform(binned_trial_rates_r1, binned_trial_rates_r2)\n",
    "    X = X.squeeze()\n",
    "    Y = Y.squeeze()\n",
    "    return cca, X, Y\n"
   ]
  },
  {
   "cell_type": "code",
   "execution_count": null,
   "metadata": {},
   "outputs": [],
   "source": [
    "def find_correlation(X, Y):\n",
    "    if len(X.shape) == 1:\n",
    "        return np.corrcoef(X, Y)[0, 1]\n",
    "    else:\n",
    "        return np.array([np.corrcoef(x, y)[0, 1] for x, y in zip(X.T, Y.T)])"
   ]
  },
  {
   "cell_type": "code",
   "execution_count": null,
   "metadata": {},
   "outputs": [],
   "source": [
    "binned_trial_r1 = generate_binned_trial_rates(neurons_r1, num_bins, bin_length, gen)\n",
    "binned_trial_r2 = generate_binned_trial_rates(neurons_r2, num_bins, bin_length, gen)"
   ]
  },
  {
   "cell_type": "code",
   "execution_count": null,
   "metadata": {},
   "outputs": [],
   "source": [
    "# Option number 1\n",
    "n_comp = 1\n",
    "cca, X, Y = fit_cca(binned_trial_rates_r1.T, binned_trial_rates_r2.T, cca=CCA(n_components=n_comp))\n",
    "print(f\"Correlation: {find_correlation(X, Y)}\")\n",
    "cca, X, Y = fit_cca(binned_trial_r1.T, binned_trial_r2.T, cca=cca, fit=True)\n",
    "print(f\"Correlation: {find_correlation(X, Y)}\")\n",
    "    "
   ]
  },
  {
   "cell_type": "code",
   "execution_count": null,
   "metadata": {},
   "outputs": [],
   "source": [
    "only_frates_r1 = np.array(\n",
    "    [generate_binned_trial_rates(neurons_r1, 1, 1, gen).squeeze() for _ in range(100)]\n",
    ")\n",
    "only_frates_r2 = np.array(\n",
    "    [generate_binned_trial_rates(neurons_r2, 1, 1, gen).squeeze() for _ in range(100)]\n",
    ")"
   ]
  },
  {
   "cell_type": "code",
   "execution_count": null,
   "metadata": {},
   "outputs": [],
   "source": [
    "only_frates_r1"
   ]
  },
  {
   "cell_type": "code",
   "execution_count": null,
   "metadata": {},
   "outputs": [],
   "source": [
    "only_frates_r2"
   ]
  },
  {
   "cell_type": "code",
   "execution_count": null,
   "metadata": {},
   "outputs": [],
   "source": [
    "# Option number 3\n",
    "cca, X, Y = fit_cca(only_frates_r1[:50], only_frates_r2[:50], cca=CCA(n_components=1))\n",
    "for val1, val2 in zip(X, Y):\n",
    "    print(val1, val2)\n",
    "print(np.corrcoef(X, Y))\n",
    "plt.scatter(X, Y)\n",
    "cca, X, Y = fit_cca(only_frates_r1[50:], only_frates_r2[50:], cca=cca, fit=False)\n",
    "print(np.corrcoef(X, Y))\n",
    "plt.scatter(X, Y)"
   ]
  },
  {
   "cell_type": "code",
   "execution_count": null,
   "metadata": {},
   "outputs": [],
   "source": [
    "plt.scatter(X, Y)"
   ]
  },
  {
   "cell_type": "code",
   "execution_count": null,
   "metadata": {},
   "outputs": [],
   "source": [
    "cca.get_params()"
   ]
  },
  {
   "cell_type": "code",
   "execution_count": null,
   "metadata": {},
   "outputs": [],
   "source": [
    "X"
   ]
  },
  {
   "cell_type": "code",
   "execution_count": null,
   "metadata": {},
   "outputs": [],
   "source": [
    "Y"
   ]
  },
  {
   "cell_type": "code",
   "execution_count": null,
   "metadata": {},
   "outputs": [],
   "source": [
    "np.corrcoef(X, Y)[0, 1]"
   ]
  },
  {
   "cell_type": "code",
   "execution_count": null,
   "metadata": {},
   "outputs": [],
   "source": [
    "only_frates_a = np.array(\n",
    "    [generate_binned_trial_rates(neurons_r1, 1, 1, gen).squeeze() for _ in range(100)]\n",
    ")\n",
    "only_frates_b = np.array(\n",
    "    [generate_binned_trial_rates(neurons_r2, 1, 1, gen).squeeze() for _ in range(100)]\n",
    ")"
   ]
  },
  {
   "cell_type": "code",
   "execution_count": null,
   "metadata": {},
   "outputs": [],
   "source": [
    "cca, X, Y = fit_cca(only_frates_a, only_frates_b, cca=cca, fit=False)\n",
    "print(np.corrcoef(X, Y)[0, 1])"
   ]
  },
  {
   "cell_type": "code",
   "execution_count": null,
   "metadata": {},
   "outputs": [],
   "source": [
    "# Option number 2 - seems to follow paper\n",
    "per_trial_bins1 = np.concatenate(\n",
    "    [generate_binned_trial_rates(neurons_r1, num_bins, bin_length, gen).T for _ in range(100)], axis=0\n",
    ")\n",
    "per_trial_bins2 = np.concatenate(\n",
    "    [generate_binned_trial_rates(neurons_r2, num_bins, bin_length, gen).T for _ in range(100)], axis=0\n",
    ")\n",
    "\n",
    "print(per_trial_bins1.shape)\n",
    "print(per_trial_bins2.shape)"
   ]
  },
  {
   "cell_type": "code",
   "execution_count": null,
   "metadata": {},
   "outputs": [],
   "source": [
    "cca, Xtrain, Ytrain = fit_cca(per_trial_bins1[:500], per_trial_bins2[:500], cca=CCA(n_components=1), fit=True)\n",
    "cca, Xtest, Ytest = fit_cca(per_trial_bins1[500:], per_trial_bins2[500:], cca=cca, fit=False)"
   ]
  },
  {
   "cell_type": "code",
   "execution_count": null,
   "metadata": {},
   "outputs": [],
   "source": [
    "Xtrain.shape"
   ]
  },
  {
   "cell_type": "code",
   "execution_count": null,
   "metadata": {},
   "outputs": [],
   "source": [
    "for val in range(10, 510, 10):\n",
    "    start = val - 10\n",
    "    print(f\"Test {val} : {np.corrcoef(Xtrain[start:val], Ytrain[start:val])[0, 1]}\")\n",
    "    print(f\"Train {val} : {np.corrcoef(Xtest[start:val], Ytest[start:val])[0, 1]}\")"
   ]
  }
 ],
 "metadata": {
  "kernelspec": {
   "display_name": ".venv",
   "language": "python",
   "name": "python3"
  },
  "language_info": {
   "codemirror_mode": {
    "name": "ipython",
    "version": 3
   },
   "file_extension": ".py",
   "mimetype": "text/x-python",
   "name": "python",
   "nbconvert_exporter": "python",
   "pygments_lexer": "ipython3",
   "version": "3.9.6"
  },
  "orig_nbformat": 4
 },
 "nbformat": 4,
 "nbformat_minor": 2
}
