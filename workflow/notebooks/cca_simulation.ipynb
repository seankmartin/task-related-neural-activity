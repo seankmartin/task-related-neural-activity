{
 "cells": [
  {
   "cell_type": "code",
   "execution_count": 178,
   "metadata": {},
   "outputs": [],
   "source": [
    "import numpy as np\n",
    "from sklearn.cross_decomposition import CCA\n",
    "import matplotlib.pyplot as plt"
   ]
  },
  {
   "cell_type": "code",
   "execution_count": 179,
   "metadata": {},
   "outputs": [],
   "source": [
    "num_bins = 20\n",
    "bin_length = 0.05\n",
    "num1 = 50\n",
    "num2 = 30"
   ]
  },
  {
   "cell_type": "code",
   "execution_count": 180,
   "metadata": {},
   "outputs": [],
   "source": [
    "class Neuron:\n",
    "    def __init__(self, gen):\n",
    "        self.firing_rate = max(0.5, gen.lognormal(0.2, 2.0))\n",
    "    \n",
    "    def sample_bins(self, num_bins, bin_length, gen):\n",
    "        return gen.poisson(self.firing_rate * bin_length, size=num_bins)\n"
   ]
  },
  {
   "cell_type": "code",
   "execution_count": 181,
   "metadata": {},
   "outputs": [],
   "source": [
    "def generate_neurons(num_neurons, gen):\n",
    "    return [Neuron(gen) for _ in range(num_neurons)]\n",
    "\n",
    "def generate_binned_trial_rates(neurons, num_bins, bin_length, gen):\n",
    "    return np.array([neuron.sample_bins(num_bins, bin_length, gen) for neuron in neurons])"
   ]
  },
  {
   "cell_type": "code",
   "execution_count": 182,
   "metadata": {},
   "outputs": [],
   "source": [
    "def fit_cca(X_, Y_, cca=None, fit=True):\n",
    "    if cca is None:\n",
    "        cca = CCA(n_components=1, scale=True)\n",
    "    if fit:\n",
    "        cca.fit(X_, Y_)\n",
    "    X, Y = cca.transform(X_, Y_)\n",
    "    X = X.squeeze()\n",
    "    Y = Y.squeeze()\n",
    "    return cca, X, Y\n"
   ]
  },
  {
   "cell_type": "code",
   "execution_count": 183,
   "metadata": {},
   "outputs": [],
   "source": [
    "def find_correlation(X, Y):\n",
    "    if len(X.shape) == 1:\n",
    "        return np.corrcoef(X, Y)[0, 1]\n",
    "    else:\n",
    "        return np.array(\n",
    "            [np.corrcoef(X[:, v], Y[:, v])[0, 1] for v in range(X.shape[1])]\n",
    "        )"
   ]
  },
  {
   "cell_type": "code",
   "execution_count": 184,
   "metadata": {},
   "outputs": [],
   "source": [
    "def transform(X_, Y_, cca):\n",
    "    rotation_x = cca.x_rotations_\n",
    "    rotation_y = cca.y_rotations_\n",
    "\n",
    "    scale_x = X_.std(axis=0, ddof=1)\n",
    "    scale_y = Y_.std(axis=0, ddof=1)\n",
    "    scale_x[scale_x == 0.0] = 1\n",
    "    scale_y[scale_y == 0.0] = 1\n",
    "    scaled_X = (X_ - X_.mean(axis=0)) / scale_x\n",
    "    scaled_Y = (Y_ - Y_.mean(axis=0)) / scale_y\n",
    "\n",
    "    Xt = np.dot(scaled_X, rotation_x)\n",
    "    Yt = np.dot(scaled_Y, rotation_y)\n",
    "\n",
    "    return Xt.squeeze(), Yt.squeeze()"
   ]
  },
  {
   "cell_type": "code",
   "execution_count": 185,
   "metadata": {},
   "outputs": [],
   "source": [
    "def find_mean_correlation(X, Y, num_trials, data_per_trial):\n",
    "    correlations = []\n",
    "    for i in range(num_trials):\n",
    "        start = i * data_per_trial\n",
    "        end = start + data_per_trial\n",
    "        correlations.append(find_correlation(X[start:end], Y[start:end]))\n",
    "    return np.mean(np.abs(correlations)), np.std(np.abs(correlations))\n",
    "    "
   ]
  },
  {
   "cell_type": "code",
   "execution_count": 186,
   "metadata": {},
   "outputs": [],
   "source": [
    "gen = np.random.default_rng(0)\n",
    "\n",
    "neurons_r1 = generate_neurons(num1, gen)\n",
    "neurons_r2 = generate_neurons(num2, gen)\n",
    "\n",
    "binned_trial_rates_r1 = generate_binned_trial_rates(\n",
    "    neurons_r1, num_bins, bin_length, gen\n",
    ")\n",
    "binned_trial_rates_r2 = generate_binned_trial_rates(\n",
    "    neurons_r2, num_bins, bin_length, gen\n",
    ")\n",
    "\n",
    "binned_trial_r1 = generate_binned_trial_rates(neurons_r1, num_bins, bin_length, gen)\n",
    "binned_trial_r2 = generate_binned_trial_rates(neurons_r2, num_bins, bin_length, gen)\n",
    "\n",
    "only_frates_r1 = np.array(\n",
    "    [generate_binned_trial_rates(neurons_r1, 1, 1, gen).squeeze() for _ in range(100)]\n",
    ")\n",
    "only_frates_r2 = np.array(\n",
    "    [generate_binned_trial_rates(neurons_r2, 1, 1, gen).squeeze() for _ in range(100)]\n",
    ")\n",
    "\n",
    "only_frates_a = np.array(\n",
    "    [generate_binned_trial_rates(neurons_r1, 1, 1, gen).squeeze() for _ in range(100)]\n",
    ")\n",
    "only_frates_b = np.array(\n",
    "    [generate_binned_trial_rates(neurons_r2, 1, 1, gen).squeeze() for _ in range(100)]\n",
    ")\n",
    "\n",
    "per_trial_bins1 = np.concatenate(\n",
    "    [generate_binned_trial_rates(neurons_r1, num_bins, bin_length, gen).T for _ in range(100)], axis=0\n",
    ")\n",
    "per_trial_bins2 = np.concatenate(\n",
    "    [generate_binned_trial_rates(neurons_r2, num_bins, bin_length, gen).T for _ in range(100)], axis=0\n",
    ")"
   ]
  },
  {
   "cell_type": "code",
   "execution_count": 187,
   "metadata": {},
   "outputs": [
    {
     "name": "stdout",
     "output_type": "stream",
     "text": [
      "Correlation: [1. 1. 1. 1.]\n",
      "Correlation: [ 0.14734664 -0.06030661  0.2127017   0.00817044]\n"
     ]
    }
   ],
   "source": [
    "# Option number 1\n",
    "cca, X, Y = fit_cca(binned_trial_rates_r1.T, binned_trial_r2.T, cca=CCA(n_components=4))\n",
    "print(f\"Correlation: {find_correlation(X, Y)}\")\n",
    "cca, X, Y = fit_cca(binned_trial_r1.T, binned_trial_r2.T, cca=cca, fit=False)\n",
    "print(f\"Correlation: {find_correlation(X, Y)}\")\n",
    "    "
   ]
  },
  {
   "cell_type": "code",
   "execution_count": 188,
   "metadata": {},
   "outputs": [
    {
     "name": "stdout",
     "output_type": "stream",
     "text": [
      "0.5068078264120351\n",
      "Train 10 : 0.26637604850332197\n",
      "Test 10 : 0.22943212807308686\n",
      "Train 20 : -0.02842341271787485\n",
      "Test 20 : 0.6897167867233878\n",
      "Train 30 : 0.5256872499907193\n",
      "Test 30 : 0.6573712011846082\n",
      "Train 40 : -0.14368334408726813\n",
      "Test 40 : 0.20565943527770425\n",
      "Train 50 : 0.2121171126164346\n",
      "Test 50 : 0.8287783132376072\n",
      "0.5048158666958559\n",
      "0.12801401032163992\n"
     ]
    }
   ],
   "source": [
    "# Option number 2\n",
    "cca, Xtrain, Ytrain = fit_cca(per_trial_bins1[:500], per_trial_bins2[:500], cca=CCA(n_components=1), fit=True)\n",
    "cca, Xtest, Ytest = fit_cca(per_trial_bins1[500:], per_trial_bins2[500:], cca=cca, fit=False)\n",
    "print(find_correlation(Xtrain, Ytrain))\n",
    "for val in range(10, 60, 10):\n",
    "    start = val - 10\n",
    "    print(f\"Train {val} : {find_correlation(Xtest[start:val], Ytest[start:val])}\")\n",
    "    print(f\"Test {val} : {find_correlation(Xtrain[start:val], Ytrain[start:val])}\")\n",
    "\n",
    "print(find_mean_correlation(Xtrain, Ytrain, 10, 50))\n",
    "print(find_mean_correlation(Xtest, Ytest, 10, 50))"
   ]
  },
  {
   "cell_type": "code",
   "execution_count": 189,
   "metadata": {},
   "outputs": [
    {
     "name": "stdout",
     "output_type": "stream",
     "text": [
      "[1. 1. 1.]\n",
      "[-0.03407047  0.0858088  -0.17024104]\n"
     ]
    }
   ],
   "source": [
    "# Option number 3\n",
    "cca, X, Y = fit_cca(only_frates_r1[:50], only_frates_r2[:50], cca=CCA(n_components=3))\n",
    "print(find_correlation(X, Y))\n",
    "cca, X, Y = fit_cca(only_frates_r1[50:], only_frates_r2[50:], cca=cca, fit=False)\n",
    "print(find_correlation(X, Y))"
   ]
  }
 ],
 "metadata": {
  "kernelspec": {
   "display_name": ".venv",
   "language": "python",
   "name": "python3"
  },
  "language_info": {
   "codemirror_mode": {
    "name": "ipython",
    "version": 3
   },
   "file_extension": ".py",
   "mimetype": "text/x-python",
   "name": "python",
   "nbconvert_exporter": "python",
   "pygments_lexer": "ipython3",
   "version": "3.8.10"
  },
  "orig_nbformat": 4
 },
 "nbformat": 4,
 "nbformat_minor": 2
}
