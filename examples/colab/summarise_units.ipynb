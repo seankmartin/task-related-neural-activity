{
 "cells": [
  {
   "cell_type": "code",
   "execution_count": null,
   "metadata": {},
   "outputs": [],
   "source": [
    "# !pip install -q git+https://github.com/seankmartin/simuran.git@main\n",
    "# !pip install -q allensdk==2.14.1\n",
    "# !pip install -q one-api==1.17.0\n",
    "# !pip install -q ibllib==2.19.0"
   ]
  },
  {
   "cell_type": "code",
   "execution_count": null,
   "metadata": {},
   "outputs": [],
   "source": [
    "%load_ext autoreload\n",
    "%autoreload 2"
   ]
  },
  {
   "cell_type": "code",
   "execution_count": null,
   "metadata": {},
   "outputs": [],
   "source": [
    "from pathlib import Path\n",
    "import simuran as smr\n",
    "from simuran.loaders.allen_loader import AllenVisualBehaviorLoader\n",
    "from simuran.loaders.one_loader import OneAlyxLoader\n",
    "import pandas as pd\n",
    "from simuran.bridges.allen_vbn_bridge import (\n",
    "    filter_good_units,\n",
    "    get_brain_regions_to_structure_dict,\n",
    ")\n",
    "from simuran.plot.unit import plot_unit_properties"
   ]
  },
  {
   "cell_type": "code",
   "execution_count": null,
   "metadata": {},
   "outputs": [],
   "source": [
    "try:\n",
    "    from google.colab import drive\n",
    "    drive.mount(\"/content/drive\")\n",
    "    data_directory = Path(\"/content/drive/MyDrive/NeuroScience/OpenData/\")\n",
    "except ModuleNotFoundError:\n",
    "    data_directory = Path(r\"D:\\\\\")\n"
   ]
  },
  {
   "cell_type": "code",
   "execution_count": null,
   "metadata": {},
   "outputs": [],
   "source": [
    "allen_name = \"allen_npixels2\"\n",
    "ibl_name = \"IBLdata\"\n",
    "ALLEN_MANIFEST = \"visual-behavior-neuropixels_project_manifest_v0.4.0.json\"\n",
    "output_directory = data_directory / \"OpenDataResults\""
   ]
  },
  {
   "cell_type": "code",
   "execution_count": null,
   "metadata": {},
   "outputs": [],
   "source": [
    "def visualise_allen_units():\n",
    "    allen_loader = AllenVisualBehaviorLoader(\n",
    "        cache_directory=data_directory / allen_name, manifest=ALLEN_MANIFEST\n",
    "    )\n",
    "    all_units = allen_loader.get_all_units()\n",
    "    plot_unit_properties(\n",
    "        all_units,\n",
    "        [\"firing_rate\"],\n",
    "        [True],\n",
    "        output_directory=output_directory / \"allen\" / \"all_units\",\n",
    "        region_dict=get_brain_regions_to_structure_dict(),\n",
    "        split_regions=False,\n",
    "    )\n",
    "    good_units = filter_good_units(all_units, sort_=False)\n",
    "    plot_unit_properties(\n",
    "        good_units,\n",
    "        [\"firing_rate\"],\n",
    "        [True],\n",
    "        output_directory=output_directory / \"allen\" / \"good_units\",\n",
    "        region_dict=get_brain_regions_to_structure_dict(),\n",
    "        split_regions=False,\n",
    "    )"
   ]
  },
  {
   "cell_type": "code",
   "execution_count": null,
   "metadata": {},
   "outputs": [],
   "source": [
    "visualise_allen_units()"
   ]
  },
  {
   "cell_type": "code",
   "execution_count": null,
   "metadata": {},
   "outputs": [],
   "source": [
    "def create_one_unit_table():\n",
    "    one_loader = OneAlyxLoader.from_cache(data_directory / ibl_name)\n",
    "    one_df = one_loader.get_sessions_table()\n",
    "    one_recording_container = smr.RecordingContainer.from_table(one_df, one_loader)\n",
    "    for i, r in enumerate(one_recording_container.load_iter()):\n",
    "        header = (i == 0)\n",
    "        for k, val in r.data.items():\n",
    "            if not k.startswith(\"probe\"):\n",
    "                continue\n",
    "            unit_table = val[1]\n",
    "            eid = r.attrs.get(\"experiment_id\")\n",
    "            eid = r.attrs.get(\"session\") if eid is None else eid\n",
    "            unit_table[\"eid\"] = eid \n",
    "            if header:\n",
    "                columns = unit_table.columns\n",
    "            else:\n",
    "                unit_table = unit_table[columns]\n",
    "                if unit_table.columns != columns:\n",
    "                    raise ValueError(f\"Invalid columns {unit_table.columns}\")\n",
    "            unit_table.to_csv(output_directory / \"IBL\" / \"unit_table.csv\", mode=\"a\", index=False, header=header)\n",
    "\n",
    "    return pd.read_csv(output_directory / \"IBL\" / \"unit_table.csv\", chunksize=50000)"
   ]
  },
  {
   "cell_type": "code",
   "execution_count": null,
   "metadata": {},
   "outputs": [],
   "source": [
    "out_path = output_directory / \"IBL\" / \"unit_table.csv\"\n",
    "if not out_path.exists():\n",
    "    out_path.parent.mkdir(parents=True, exist_ok=True)\n",
    "    df = create_one_unit_table()\n",
    "    df.to_csv(out_path)"
   ]
  }
 ],
 "metadata": {
  "kernelspec": {
   "display_name": "allen_ibl",
   "language": "python",
   "name": "python3"
  },
  "language_info": {
   "codemirror_mode": {
    "name": "ipython",
    "version": 3
   },
   "file_extension": ".py",
   "mimetype": "text/x-python",
   "name": "python",
   "nbconvert_exporter": "python",
   "pygments_lexer": "ipython3",
   "version": "3.8.10 (tags/v3.8.10:3d8993a, May  3 2021, 11:48:03) [MSC v.1928 64 bit (AMD64)]"
  },
  "orig_nbformat": 4,
  "vscode": {
   "interpreter": {
    "hash": "4bcf99b499c396c1c3bdd0a78c008fb4cdf0c6001b909ad29d8a0545921c6c77"
   }
  }
 },
 "nbformat": 4,
 "nbformat_minor": 2
}
