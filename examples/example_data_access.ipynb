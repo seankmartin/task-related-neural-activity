{
 "cells": [
  {
   "cell_type": "code",
   "execution_count": null,
   "metadata": {},
   "outputs": [],
   "source": [
    "# only for google drive\n",
    "!pip install git+https://github.com/seankmartin/simuran.git@main\n",
    "!pip install allensdk==2.14.1\n",
    "!pip install one-api==1.17.0\n",
    "!pip install ibllib==2.19.0\n",
    "\n",
    "# Currently need allensdk 2.13.5 to work with manifest 0.3.0 but that should change in the future"
   ]
  },
  {
   "cell_type": "code",
   "execution_count": null,
   "metadata": {},
   "outputs": [],
   "source": [
    "%load_ext autoreload\n",
    "%autoreload 2"
   ]
  },
  {
   "cell_type": "code",
   "execution_count": null,
   "metadata": {},
   "outputs": [],
   "source": [
    "from pathlib import Path\n",
    "from pprint import pprint\n",
    "import simuran\n",
    "from simuran.loaders.allen_loader import AllenVisualBehaviorLoader\n",
    "from simuran.loaders.one_loader import OneAlyxLoader"
   ]
  },
  {
   "cell_type": "code",
   "execution_count": null,
   "metadata": {},
   "outputs": [],
   "source": [
    "ALLEN_CACHE_DIR = Path(r\"D:\\example-data\\allen-data\")\n",
    "ALLEN_MANIFEST = \"visual-behavior-neuropixels_project_manifest_v0.4.0.json\"\n",
    "IBL_CACHE_DIR = Path(r\"D:\\example-data\\ibl-data\")"
   ]
  },
  {
   "cell_type": "code",
   "execution_count": null,
   "metadata": {},
   "outputs": [],
   "source": [
    "def create_allen_recording_container(cache_directory, manifest=None) -> \"simuran.RecordingContainer\":\n",
    "    loader = AllenVisualBehaviorLoader(cache_directory=cache_directory, manifest=manifest)\n",
    "    loader.create_s3_cache()\n",
    "    ecephys_sessions = loader.cache.get_ecephys_session_table()\n",
    "    sessions = ecephys_sessions.dropna(subset=[\"file_id\"])\n",
    "    recording_container = simuran.RecordingContainer.from_table(ecephys_sessions, loader)\n",
    "    return recording_container"
   ]
  },
  {
   "cell_type": "code",
   "execution_count": null,
   "metadata": {},
   "outputs": [],
   "source": [
    "allen_rc = create_allen_recording_container(ALLEN_CACHE_DIR, ALLEN_MANIFEST)\n",
    "for r in allen_rc:\n",
    "    if r.attrs[\"downloaded\"]:\n",
    "        print(f\"{r.source_file} is downloaded\")\n",
    "        r.load()\n",
    "        print(r)\n",
    "    else:\n",
    "        print(f\"{r.source_file} is not yet available\")"
   ]
  },
  {
   "cell_type": "code",
   "execution_count": null,
   "metadata": {},
   "outputs": [],
   "source": [
    "def create_one_alyx_recording_container(cache_directory):\n",
    "    loader = OneAlyxLoader.from_cache(cache_directory)\n",
    "    eid = loader.find_eid(\"steinmetzlab\", \"NR_0017\")[0][0]\n",
    "    rc = simuran.RecordingContainer()\n",
    "    rc.append(simuran.Recording(attrs={\"experiment_id\": eid}, loader=loader))\n",
    "    rc.loader = loader \n",
    "    return rc"
   ]
  },
  {
   "cell_type": "code",
   "execution_count": null,
   "metadata": {},
   "outputs": [],
   "source": [
    "ibl_rc = create_one_alyx_recording_container(IBL_CACHE_DIR)\n",
    "for r in ibl_rc.load_iter():\n",
    "    with open(\"output.txt\", \"w\") as out:\n",
    "        pprint(r.data, stream=out)"
   ]
  }
 ],
 "metadata": {
  "kernelspec": {
   "display_name": "Python 3",
   "language": "python",
   "name": "python3"
  },
  "language_info": {
   "codemirror_mode": {
    "name": "ipython",
    "version": 3
   },
   "file_extension": ".py",
   "mimetype": "text/x-python",
   "name": "python",
   "nbconvert_exporter": "python",
   "pygments_lexer": "ipython3",
   "version": "3.9.6 (default, Oct 18 2022, 12:41:40) \n[Clang 14.0.0 (clang-1400.0.29.202)]"
  },
  "orig_nbformat": 4,
  "vscode": {
   "interpreter": {
    "hash": "31f2aee4e71d21fbe5cf8b01ff0e069b9275f58929596ceb00d14d90e3e16cd6"
   }
  }
 },
 "nbformat": 4,
 "nbformat_minor": 2
}
