{
 "cells": [
  {
   "cell_type": "code",
   "execution_count": null,
   "metadata": {},
   "outputs": [],
   "source": [
    "# only for google drive\n",
    "!pip install git+https://github.com/seankmartin/simuran.git@main\n",
    "!pip install allensdk==2.14.1\n",
    "!pip install one-api==1.17.0"
   ]
  },
  {
   "cell_type": "code",
   "execution_count": null,
   "metadata": {},
   "outputs": [],
   "source": [
    "%load_ext autoreload\n",
    "%autoreload 2"
   ]
  },
  {
   "cell_type": "code",
   "execution_count": null,
   "metadata": {},
   "outputs": [],
   "source": [
    "from pathlib import Path\n",
    "import simuran\n",
    "from simuran.loaders.allen_loader import AllenVisualBehaviorLoader\n",
    "# from simuran.loaders.one_loader import OneAlyxLoader"
   ]
  },
  {
   "cell_type": "code",
   "execution_count": null,
   "metadata": {},
   "outputs": [],
   "source": [
    "ALLEN_CACHE_DIR = Path(r\"D:\\example-data\\allen-data\")\n",
    "ALLEN_MANIFEST = \"visual-behavior-neuropixels_project_manifest_v0.3.0.json\"\n",
    "IBL_CACHE_DIR = Path(r\"D:\\example-data\\ibl-data\")"
   ]
  },
  {
   "cell_type": "code",
   "execution_count": null,
   "metadata": {},
   "outputs": [],
   "source": [
    "# loader = AllenVisualBehaviorLoader(cache_directory=ALLEN_CACHE_DIR, manifest=ALLEN_MANIFEST)\n",
    "# loader.create_s3_cache()\n",
    "# loader.cache.compare_manifests(ALLEN_MANIFEST, ALLEN_MANIFEST.replace(\"3\", \"4\"))"
   ]
  },
  {
   "cell_type": "code",
   "execution_count": null,
   "metadata": {},
   "outputs": [],
   "source": [
    "def create_allen_recording_container(cache_directory, manifest=None) -> \"simuran.RecordingContainer\":\n",
    "    loader = AllenVisualBehaviorLoader(cache_directory=cache_directory, manifest=manifest)\n",
    "    loader.create_s3_cache()\n",
    "    ecephys_sessions = loader.cache.get_ecephys_session_table()\n",
    "    sessions = ecephys_sessions.dropna(subset=[\"file_id\"])\n",
    "    recording_container = simuran.RecordingContainer.from_table(ecephys_sessions, loader)\n",
    "    return recording_container"
   ]
  },
  {
   "cell_type": "code",
   "execution_count": null,
   "metadata": {},
   "outputs": [],
   "source": [
    "rc = create_allen_recording_container(ALLEN_CACHE_DIR, ALLEN_MANIFEST)\n",
    "for r in rc:\n",
    "    if r.attrs[\"dowloaded\"]:\n",
    "        print(f\"{r.source_file} is downloaded\")\n",
    "        print(r)\n",
    "    else:\n",
    "        print(f\"{r.source_file} is not yet available\")"
   ]
  }
 ],
 "metadata": {
  "kernelspec": {
   "display_name": "allensdk",
   "language": "python",
   "name": "python3"
  },
  "language_info": {
   "codemirror_mode": {
    "name": "ipython",
    "version": 3
   },
   "file_extension": ".py",
   "mimetype": "text/x-python",
   "name": "python",
   "nbconvert_exporter": "python",
   "pygments_lexer": "ipython3",
   "version": "3.8.10"
  },
  "orig_nbformat": 4,
  "vscode": {
   "interpreter": {
    "hash": "34d9ad800429f6aa041a9075b08b4a9b7326447a39d0907f96d62bb357448944"
   }
  }
 },
 "nbformat": 4,
 "nbformat_minor": 2
}
