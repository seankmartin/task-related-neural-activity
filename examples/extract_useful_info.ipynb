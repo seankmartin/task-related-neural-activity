{
 "cells": [
  {
   "cell_type": "code",
   "execution_count": null,
   "metadata": {},
   "outputs": [],
   "source": [
    "%load_ext autoreload\n",
    "%autoreload 2"
   ]
  },
  {
   "cell_type": "code",
   "execution_count": null,
   "metadata": {},
   "outputs": [],
   "source": [
    "from pathlib import Path\n",
    "from pprint import pprint\n",
    "import pandas as pd\n",
    "import simuran\n",
    "from simuran.loaders.allen_loader import AllenVisualBehaviorLoader\n",
    "from simuran.loaders.one_loader import OneAlyxLoader\n",
    "from simuran.loaders.nwb_loader import NWBLoader"
   ]
  },
  {
   "cell_type": "code",
   "execution_count": null,
   "metadata": {},
   "outputs": [],
   "source": [
    "ALLEN_CACHE_DIR = Path(r\"D:\\example-data\\allen-data\")\n",
    "ALLEN_MANIFEST = \"visual-behavior-neuropixels_project_manifest_v0.4.0.json\"\n",
    "IBL_CACHE_DIR = Path(r\"D:\\example-data\\ibl-data\")"
   ]
  },
  {
   "cell_type": "code",
   "execution_count": null,
   "metadata": {},
   "outputs": [],
   "source": [
    "allen_loader = AllenVisualBehaviorLoader(\n",
    "    cache_directory=ALLEN_CACHE_DIR, manifest=ALLEN_MANIFEST\n",
    ")\n",
    "allen_loader.create_s3_cache()\n",
    "one_loader = OneAlyxLoader.from_cache(IBL_CACHE_DIR)\n",
    "\n",
    "allen_sessions = allen_loader.cache.get_ecephys_session_table()\n",
    "allen_sessions = allen_sessions.dropna(subset=[\"file_id\"])\n",
    "one_sessions = [s for s in one_loader.sessions]\n",
    "one_df = pd.DataFrame([s for s in one_sessions])"
   ]
  },
  {
   "cell_type": "code",
   "execution_count": null,
   "metadata": {},
   "outputs": [],
   "source": [
    "allen_recording_container = simuran.RecordingContainer.from_table(allen_sessions, allen_loader)\n",
    "one_recording_container = simuran.RecordingContainer.from_table(one_df, one_loader)"
   ]
  },
  {
   "cell_type": "code",
   "execution_count": null,
   "metadata": {},
   "outputs": [],
   "source": [
    "# allen_recording_container.table.to_csv(\"allen_recordings.csv\")\n",
    "# one_recording_container.table.to_csv(\"one_recordings.csv\")"
   ]
  },
  {
   "cell_type": "code",
   "execution_count": null,
   "metadata": {},
   "outputs": [],
   "source": [
    "id_name = allen_recording_container[0].attrs[\"id_name\"]\n",
    "example_allen_recording = allen_recording_container.find_recording_by_attribute(\n",
    "    id_name, 1044385384\n",
    ")\n",
    "example_allen_recording.load()"
   ]
  },
  {
   "cell_type": "code",
   "execution_count": null,
   "metadata": {},
   "outputs": [],
   "source": [
    "nwb_loader = NWBLoader()\n",
    "nwb_source_file = allen_loader.path_to_nwb(example_allen_recording)\n",
    "nwb_allen_recording = simuran.Recording(source_file=nwb_source_file, loader=nwb_loader)\n",
    "nwb_allen_recording.load()"
   ]
  },
  {
   "cell_type": "code",
   "execution_count": null,
   "metadata": {},
   "outputs": [],
   "source": [
    "eid = one_loader.find_eid(\"steinmetzlab\", \"NR_0017\")[0][0]\n",
    "example_one_recording = one_recording_container.find_recording_by_attribute(\n",
    "    \"session\", eid\n",
    ")\n",
    "example_one_recording.load()\n"
   ]
  },
  {
   "cell_type": "code",
   "execution_count": null,
   "metadata": {},
   "outputs": [],
   "source": [
    "def extract_useful_one(recording):\n",
    "    pass"
   ]
  },
  {
   "cell_type": "code",
   "execution_count": null,
   "metadata": {},
   "outputs": [],
   "source": [
    "def extract_useful_allen(recording):\n",
    "    session = recording.data\n",
    "    units = session.get_units()\n",
    "    channels = session.get_channels()\n",
    "    unit_channels = units.merge(channels, left_on=\"peak_channel_id\", right_index=True)\n",
    "    unit_channels.to_csv(\"units.csv\")"
   ]
  },
  {
   "cell_type": "code",
   "execution_count": null,
   "metadata": {},
   "outputs": [],
   "source": [
    "example_allen_recording.data.metadata"
   ]
  },
  {
   "cell_type": "code",
   "execution_count": null,
   "metadata": {},
   "outputs": [],
   "source": [
    "print(nwb_allen_recording.data)"
   ]
  },
  {
   "cell_type": "code",
   "execution_count": null,
   "metadata": {},
   "outputs": [],
   "source": [
    "[example_one_recording.data.keys()]"
   ]
  }
 ],
 "metadata": {
  "kernelspec": {
   "display_name": "allen_ibl",
   "language": "python",
   "name": "python3"
  },
  "language_info": {
   "codemirror_mode": {
    "name": "ipython",
    "version": 3
   },
   "file_extension": ".py",
   "mimetype": "text/x-python",
   "name": "python",
   "nbconvert_exporter": "python",
   "pygments_lexer": "ipython3",
   "version": "3.8.10 (tags/v3.8.10:3d8993a, May  3 2021, 11:48:03) [MSC v.1928 64 bit (AMD64)]"
  },
  "orig_nbformat": 4,
  "vscode": {
   "interpreter": {
    "hash": "4bcf99b499c396c1c3bdd0a78c008fb4cdf0c6001b909ad29d8a0545921c6c77"
   }
  }
 },
 "nbformat": 4,
 "nbformat_minor": 2
}
