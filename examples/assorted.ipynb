{
 "cells": [
  {
   "cell_type": "code",
   "execution_count": null,
   "metadata": {},
   "outputs": [],
   "source": [
    "#Try to fix memory problems\n",
    "from psutil import virtual_memory\n",
    "\n",
    "def print_memory_usage(as_string: bool = False) -> str:\n",
    "    str_ = f\"RAM memory usage stats: {virtual_memory()}\"\n",
    "    if not as_string:\n",
    "        print(str_)\n",
    "    return str_\n",
    "\n",
    "for i, r in enumerate(one_recording_container.load_iter()):\n",
    "    print(r.attrs[\"session\"])\n",
    "    print(f\"One iteration {i}; {print_memory_usage(as_string=True)}\")\n",
    "    if i > 6:\n",
    "        break\n",
    "\n",
    "for i, r in enumerate(allen_recording_container.load_iter()):\n",
    "    print(r.attrs[\"ecephys_session_id\"])\n",
    "    print(f\"Allen iteration {i}; {print_memory_usage(as_string=True)}\")\n",
    "    if i > 6:\n",
    "        break"
   ]
  }
 ],
 "metadata": {
  "kernelspec": {
   "display_name": "allen_ibl",
   "language": "python",
   "name": "python3"
  },
  "language_info": {
   "name": "python",
   "version": "3.8.10 (tags/v3.8.10:3d8993a, May  3 2021, 11:48:03) [MSC v.1928 64 bit (AMD64)]"
  },
  "orig_nbformat": 4,
  "vscode": {
   "interpreter": {
    "hash": "4bcf99b499c396c1c3bdd0a78c008fb4cdf0c6001b909ad29d8a0545921c6c77"
   }
  }
 },
 "nbformat": 4,
 "nbformat_minor": 2
}
