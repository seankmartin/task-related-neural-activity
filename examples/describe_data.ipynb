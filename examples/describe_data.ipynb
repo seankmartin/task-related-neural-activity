{
 "cells": [
  {
   "attachments": {},
   "cell_type": "markdown",
   "metadata": {},
   "source": [
    "# Two primary options\n",
    "\n",
    "Firstly, is the [IBL dataset on behaviour](https://int-brain-lab.github.io/iblenv/notebooks_external/data_release_brainwidemap.html)\n",
    "\n",
    "Secondly is the [Allen Brain Observatory: Visual Behaviour Neuropixels set](https://brainmapportal-live-4cc80a57cd6e400d854-f7fdcae.divio-media.net/filer_public/f7/06/f706855a-a3a1-4a3a-a6b0-3502ad64680f/visualbehaviorneuropixels_technicalwhitepaper.pdf)"
   ]
  },
  {
   "attachments": {},
   "cell_type": "markdown",
   "metadata": {},
   "source": [
    "# Allen data\n",
    "\n",
    "I have all this data already downloaded (see DownloadAllen2022Data.ipynb). There are about 100-120 files at about 2.5GB each."
   ]
  }
 ],
 "metadata": {
  "kernelspec": {
   "display_name": "notebooks",
   "language": "python",
   "name": "python3"
  },
  "language_info": {
   "name": "python",
   "version": "3.8.10 (tags/v3.8.10:3d8993a, May  3 2021, 11:48:03) [MSC v.1928 64 bit (AMD64)]"
  },
  "orig_nbformat": 4,
  "vscode": {
   "interpreter": {
    "hash": "dee386f75b2b2024fa24ea07d919084e8ac591973033df4e97cdf4d0511caeb7"
   }
  }
 },
 "nbformat": 4,
 "nbformat_minor": 2
}
