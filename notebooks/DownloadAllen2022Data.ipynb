{
  "cells": [
    {
      "cell_type": "code",
      "execution_count": null,
      "metadata": {
        "colab": {
          "base_uri": "https://localhost:8080/"
        },
        "collapsed": true,
        "id": "CW3AQTmjXlm2",
        "outputId": "731dac37-4486-4a4b-a246-79c19854febc"
      },
      "outputs": [],
      "source": [
        "!pip install --upgrade pip\n",
        "!pip install allensdk"
      ]
    },
    {
      "cell_type": "code",
      "execution_count": null,
      "metadata": {
        "colab": {
          "base_uri": "https://localhost:8080/"
        },
        "id": "y7DNQRU2YEUT",
        "outputId": "baacf385-2de6-4efb-d9b7-bc3d74368b5a"
      },
      "outputs": [],
      "source": [
        "from google.colab import drive\n",
        "drive.mount(\"/content/drive\")"
      ]
    },
    {
      "cell_type": "code",
      "execution_count": null,
      "metadata": {
        "colab": {
          "base_uri": "https://localhost:8080/"
        },
        "id": "Ptc23rGHX9uS",
        "outputId": "30c84399-3753-4d81-83a9-44550e276012"
      },
      "outputs": [],
      "source": [
        "import shutil\n",
        "from pathlib import Path\n",
        "import matplotlib.pyplot as plt\n",
        "\n",
        "import allensdk\n",
        "from allensdk.brain_observatory.behavior.behavior_project_cache import VisualBehaviorNeuropixelsProjectCache\n",
        "\n",
        "# Confirming your allensdk version\n",
        "print(f\"Your allensdk version is: {allensdk.__version__}\")"
      ]
    },
    {
      "cell_type": "code",
      "execution_count": null,
      "metadata": {
        "id": "BeWWDOudX_Ad"
      },
      "outputs": [],
      "source": [
        "def main():\n",
        "    data_directory = Path(\"/content/drive/MyDrive/NeuroScience/OpenData/allen_npixels2/\")\n",
        "    manifest_path = data_directory / \"manifest.json\"\n",
        "    cache = VisualBehaviorNeuropixelsProjectCache.from_s3_cache(\n",
        "        cache_dir=data_directory\n",
        "    )\n",
        "    # download_ecephys_data(cache)"
      ]
    },
    {
      "cell_type": "code",
      "execution_count": null,
      "metadata": {
        "id": "3qyuZxISYAad"
      },
      "outputs": [],
      "source": [
        "def download_ecephys_data(cache: \"VisualBehaviorNeuropixelsProjectCache\"):\n",
        "    ## Download all of the data\n",
        "    ecephys_sessions = cache.get_ecephys_session_table()\n",
        "    sessions = ecephys_sessions.dropna(subset=[\"file_id\"])\n",
        "    for session_id, row in sessions.iterrows():\n",
        "        cache.get_ecephys_session(ecephys_session_id=session_id)"
      ]
    },
    {
      "cell_type": "code",
      "execution_count": null,
      "metadata": {
        "id": "JjBxGuLeoQpN"
      },
      "outputs": [],
      "source": [
        "def describe_data(\n",
        "    cache: \"VisualBehaviorNeuropixelsProjectCache\",\n",
        ")"
      ]
    },
    {
      "cell_type": "code",
      "execution_count": null,
      "metadata": {
        "colab": {
          "base_uri": "https://localhost:8080/"
        },
        "id": "38bnBl-ldMAq",
        "outputId": "bb60c87b-df9a-4171-a1d9-a5c11883f09d"
      },
      "outputs": [],
      "source": [
        "# main()"
      ]
    }
  ],
  "metadata": {
    "colab": {
      "provenance": []
    },
    "kernelspec": {
      "display_name": "Python 3",
      "name": "python3"
    },
    "language_info": {
      "name": "python"
    }
  },
  "nbformat": 4,
  "nbformat_minor": 0
}
