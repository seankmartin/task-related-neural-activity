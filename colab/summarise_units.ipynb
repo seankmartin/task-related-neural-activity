{
 "cells": [
  {
   "cell_type": "code",
   "execution_count": null,
   "metadata": {},
   "outputs": [],
   "source": [
    "!pip install -q git+https://github.com/seankmartin/simuran.git@main\n",
    "!pip install -q allensdk==2.14.1\n",
    "!pip install -q one-api==1.17.0\n",
    "!pip install -q ibllib==2.19.0"
   ]
  },
  {
   "cell_type": "code",
   "execution_count": null,
   "metadata": {},
   "outputs": [],
   "source": [
    "%load_ext autoreload\n",
    "%autoreload 2"
   ]
  },
  {
   "cell_type": "code",
   "execution_count": null,
   "metadata": {},
   "outputs": [],
   "source": [
    "from pathlib import Path\n",
    "import simuran as smr\n",
    "from simuran.loaders.allen_loader import AllenVisualBehaviorLoader\n",
    "from simuran.bridges.allen_vbn_bridge import (\n",
    "    filter_good_units,\n",
    "    get_brain_regions_to_structure_dict,\n",
    ")\n",
    "from simuran.plot.unit import plot_unit_properties\n"
   ]
  },
  {
   "cell_type": "code",
   "execution_count": null,
   "metadata": {},
   "outputs": [],
   "source": [
    "from google.colab import drive\n",
    "drive.mount(\"/content/drive\")"
   ]
  },
  {
   "cell_type": "code",
   "execution_count": null,
   "metadata": {},
   "outputs": [],
   "source": [
    "data_directory = Path(\"/content/drive/MyDrive/NeuroScience/OpenData/\")\n",
    "allen_name = \"allen_npixels2\"\n",
    "ibl_name = \"IBLdata\"\n",
    "ALLEN_MANIFEST = \"visual-behavior-neuropixels_project_manifest_v0.4.0.json\"\n",
    "output_directory = data_directory / \"results\""
   ]
  },
  {
   "cell_type": "code",
   "execution_count": null,
   "metadata": {},
   "outputs": [],
   "source": [
    "def visualise_allen_units():\n",
    "    allen_loader = AllenVisualBehaviorLoader(\n",
    "        cache_directory=data_directory / allen_name, manifest=ALLEN_MANIFEST\n",
    "    )\n",
    "    all_units = allen_loader.get_all_units()\n",
    "    plot_unit_properties(\n",
    "        all_units,\n",
    "        [\"firing_rate\"],\n",
    "        [True],\n",
    "        output_directory=output_directory / \"allen\" / \"all_units\",\n",
    "        region_dict=get_brain_regions_to_structure_dict(),\n",
    "        split_regions=False,\n",
    "    )\n",
    "    good_units = filter_good_units(all_units, sort_=False)\n",
    "    plot_unit_properties(\n",
    "        good_units,\n",
    "        [\"firing_rate\"],\n",
    "        [True],\n",
    "        output_directory=output_directory / \"allen\" / \"good_units\",\n",
    "        region_dict=get_brain_regions_to_structure_dict(),\n",
    "        split_regions=False,\n",
    "    )\n"
   ]
  }
 ],
 "metadata": {
  "kernelspec": {
   "display_name": "allen_ibl",
   "language": "python",
   "name": "python3"
  },
  "language_info": {
   "name": "python",
   "version": "3.8.10 (tags/v3.8.10:3d8993a, May  3 2021, 11:48:03) [MSC v.1928 64 bit (AMD64)]"
  },
  "orig_nbformat": 4,
  "vscode": {
   "interpreter": {
    "hash": "4bcf99b499c396c1c3bdd0a78c008fb4cdf0c6001b909ad29d8a0545921c6c77"
   }
  }
 },
 "nbformat": 4,
 "nbformat_minor": 2
}
