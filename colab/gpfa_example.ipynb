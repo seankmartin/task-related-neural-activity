{
 "cells": [
  {
   "cell_type": "code",
   "execution_count": null,
   "metadata": {},
   "outputs": [],
   "source": [
    "# !pip install -q git+https://github.com/seankmartin/simuran.git@main\n",
    "# !pip install -q allensdk==2.14.1\n",
    "# !pip install -q one-api==1.17.0\n",
    "# !pip install -q ibllib==2.19.0"
   ]
  },
  {
   "cell_type": "code",
   "execution_count": null,
   "metadata": {},
   "outputs": [],
   "source": [
    "%load_ext autoreload\n",
    "%autoreload 2"
   ]
  },
  {
   "cell_type": "code",
   "execution_count": null,
   "metadata": {},
   "outputs": [],
   "source": [
    "from pathlib import Path\n",
    "import simuran as smr\n",
    "from simuran.loaders.allen_loader import AllenVisualBehaviorLoader\n",
    "from simuran.loaders.one_loader import OneAlyxLoader\n",
    "import pandas as pd\n",
    "from simuran.bridges.allen_vbn_bridge import (\n",
    "    filter_good_units,\n",
    "    get_brain_regions_to_structure_dict,\n",
    ")\n",
    "from simuran.plot.unit import plot_unit_properties"
   ]
  },
  {
   "cell_type": "code",
   "execution_count": null,
   "metadata": {},
   "outputs": [],
   "source": [
    "try:\n",
    "    from google.colab import drive\n",
    "    drive.mount(\"/content/drive\")\n",
    "    data_directory = Path(\"/content/drive/MyDrive/NeuroScience/OpenData/\")\n",
    "except ModuleNotFoundError:\n",
    "    data_directory = Path(r\"G:\\\\OpenData\")"
   ]
  },
  {
   "cell_type": "code",
   "execution_count": null,
   "metadata": {},
   "outputs": [],
   "source": [
    "allen_name = \"allen_npixels2\"\n",
    "ibl_name = \"IBLdata\"\n",
    "ALLEN_MANIFEST = \"visual-behavior-neuropixels_project_manifest_v0.4.0.json\"\n",
    "output_directory = data_directory / \"OpenDataResults\"\n",
    "allen_cache_dir = data_directory / allen_name\n",
    "ibl_cache_dir = data_directory / ibl_name"
   ]
  },
  {
   "cell_type": "code",
   "execution_count": null,
   "metadata": {},
   "outputs": [],
   "source": [
    "# allen_loader = AllenVisualBehaviorLoader(\n",
    "#     cache_directory=allen_cache_dir, manifest=ALLEN_MANIFEST\n",
    "# )\n",
    "# allen_sessions = allen_loader.get_sessions_table()\n",
    "one_loader = OneAlyxLoader(cache_directory=ibl_cache_dir)\n",
    "one_sessions = one_loader.get_sessions_table()\n",
    "\n",
    "allen_recording_container = smr.RecordingContainer.from_table(allen_sessions, allen_loader)\n",
    "one_recording_container = smr.RecordingContainer.from_table(one_sessions, one_loader)"
   ]
  },
  {
   "cell_type": "code",
   "execution_count": null,
   "metadata": {},
   "outputs": [],
   "source": [
    "example_one = one_recording_container.load(0, force_reload=True)"
   ]
  },
  {
   "cell_type": "code",
   "execution_count": null,
   "metadata": {},
   "outputs": [],
   "source": [
    "# from simuran.bridges.allen_vbn_bridge import allen_to_spike_train\n",
    "# example_recording = allen_recording_container.load(0)\n",
    "# units_df, spike_train = allen_to_spike_train(example_recording)"
   ]
  },
  {
   "cell_type": "code",
   "execution_count": null,
   "metadata": {},
   "outputs": [],
   "source": [
    "from simuran.bridges.ibl_wide_bridge import one_spike_train, one_trial_info\n",
    "\n",
    "unit_table, spike_train = one_spike_train(example_one)\n",
    "trial_info = one_trial_info(example_one)"
   ]
  },
  {
   "cell_type": "code",
   "execution_count": null,
   "metadata": {},
   "outputs": [],
   "source": [
    "def split_spikes_into_trials(spike_train, trial_info, num_trials=None):\n",
    "    new_spike_train = []\n",
    "    for i, (start, end) in enumerate(trial_info[\"trial_times\"]):\n",
    "        if (num_trials is not None) and (i == num_trials):\n",
    "            break\n",
    "        for k, v in spike_train.items():\n",
    "            to_use = v[(v >= start) & (v < end)]\n",
    "            new_spike_train.append(to_use - start)\n",
    "    return new_spike_train"
   ]
  },
  {
   "cell_type": "code",
   "execution_count": null,
   "metadata": {},
   "outputs": [],
   "source": [
    "small_train = smaller_spike_train(spike_train, 20, 10)"
   ]
  },
  {
   "cell_type": "code",
   "execution_count": null,
   "metadata": {},
   "outputs": [],
   "source": [
    "from simuran.bridges.neo_bridge import convert_spikes_to_train\n",
    "neo_train = convert_spikes_to_train(small_train)"
   ]
  },
  {
   "cell_type": "code",
   "execution_count": null,
   "metadata": {},
   "outputs": [],
   "source": [
    "from elephant.gpfa import GPFA\n",
    "import quantities as pq\n",
    "\n",
    "bin_size = 20 * pq.ms \n",
    "\n",
    "gpfa_3dim = GPFA(x_dim=3, bin_size=bin_size)\n",
    "\n",
    "# Axis 0 is trials\n",
    "# Axis 1 is neurons\n",
    "# Axis 2 is the times\n",
    "gpfa_3dim.fit([neo_train])"
   ]
  },
  {
   "cell_type": "code",
   "execution_count": null,
   "metadata": {},
   "outputs": [],
   "source": [
    "trajectories = gpfa_3dim.transform([neo_train])"
   ]
  },
  {
   "cell_type": "code",
   "execution_count": null,
   "metadata": {},
   "outputs": [],
   "source": [
    "trajectories"
   ]
  },
  {
   "cell_type": "code",
   "execution_count": null,
   "metadata": {},
   "outputs": [],
   "source": [
    "import numpy as np\n",
    "average_trajectory = np.mean(trajectories, axis=0)\n",
    "average_trajectory"
   ]
  },
  {
   "cell_type": "code",
   "execution_count": null,
   "metadata": {},
   "outputs": [],
   "source": [
    "import matplotlib.pyplot as plt\n",
    "fig = plt.figure(figsize=plt.figaspect(1.0))\n",
    "ax = fig.add_subplot(projection=\"3d\")\n",
    "ax.plot(*average_trajectory)\n",
    "plt.show()\n",
    "plt.close(fig)"
   ]
  }
 ],
 "metadata": {
  "kernelspec": {
   "display_name": "allen_ibl",
   "language": "python",
   "name": "python3"
  },
  "language_info": {
   "codemirror_mode": {
    "name": "ipython",
    "version": 3
   },
   "file_extension": ".py",
   "mimetype": "text/x-python",
   "name": "python",
   "nbconvert_exporter": "python",
   "pygments_lexer": "ipython3",
   "version": "3.8.10"
  },
  "orig_nbformat": 4,
  "vscode": {
   "interpreter": {
    "hash": "4bcf99b499c396c1c3bdd0a78c008fb4cdf0c6001b909ad29d8a0545921c6c77"
   }
  }
 },
 "nbformat": 4,
 "nbformat_minor": 2
}
